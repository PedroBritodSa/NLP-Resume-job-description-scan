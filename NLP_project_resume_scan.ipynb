{
  "nbformat": 4,
  "nbformat_minor": 0,
  "metadata": {
    "colab": {
      "provenance": [],
      "include_colab_link": true
    },
    "kernelspec": {
      "name": "python3",
      "display_name": "Python 3"
    },
    "language_info": {
      "name": "python"
    }
  },
  "cells": [
    {
      "cell_type": "markdown",
      "metadata": {
        "id": "view-in-github",
        "colab_type": "text"
      },
      "source": [
        "<a href=\"https://colab.research.google.com/github/PedroBritodSa/NLP-Resume-job-description-scan/blob/main/NLP_project_resume_scan.ipynb\" target=\"_parent\"><img src=\"https://colab.research.google.com/assets/colab-badge.svg\" alt=\"Open In Colab\"/></a>"
      ]
    },
    {
      "cell_type": "markdown",
      "source": [
        "# Simple Resume Scan and WordCloud\n",
        "- In this notebook, we will implement a simple NLP structure to scan resumes in docx or PDF format and compare with a job description\n",
        "- The code is structured in functions to facilitate usage and it is necessary to upload the documents to see it working.  "
      ],
      "metadata": {
        "id": "YHHtvOOLUz1y"
      }
    },
    {
      "cell_type": "code",
      "execution_count": 19,
      "metadata": {
        "colab": {
          "base_uri": "https://localhost:8080/"
        },
        "id": "qXCmNA7KKPjl",
        "outputId": "975972d5-6ce9-43c4-d526-012f0acfdf3c"
      },
      "outputs": [
        {
          "output_type": "stream",
          "name": "stdout",
          "text": [
            "Requirement already satisfied: docx2txt in /usr/local/lib/python3.10/dist-packages (0.8)\n"
          ]
        }
      ],
      "source": [
        "pip install docx2txt"
      ]
    },
    {
      "cell_type": "code",
      "source": [
        "pip install PyPDF2"
      ],
      "metadata": {
        "colab": {
          "base_uri": "https://localhost:8080/"
        },
        "id": "ss3TGHTfa90N",
        "outputId": "98607957-0398-4043-8663-0d02d678aee9"
      },
      "execution_count": 20,
      "outputs": [
        {
          "output_type": "stream",
          "name": "stdout",
          "text": [
            "Requirement already satisfied: PyPDF2 in /usr/local/lib/python3.10/dist-packages (3.0.1)\n"
          ]
        }
      ]
    },
    {
      "cell_type": "markdown",
      "source": [
        "- Loading some important libraries\n"
      ],
      "metadata": {
        "id": "SkM5xXp-ZLCy"
      }
    },
    {
      "cell_type": "code",
      "source": [
        "import docx2txt #library to transform docx file into txt\n",
        "\n",
        "from PyPDF2 import PdfReader #library to transform pdf file into txt\n",
        "\n",
        "import os #Make the check for the type of document\n",
        "\n",
        "from sklearn.feature_extraction.text import CountVectorizer #Simple vectorizer\n",
        "\n",
        "from sklearn.metrics.pairwise import cosine_similarity #library to search simality in text\n",
        "\n",
        "import string #to remove punctuations\n",
        "\n",
        "import re #regular expression library\n",
        "\n",
        "import pandas as pd\n",
        "\n",
        "from sklearn.feature_extraction.text import ENGLISH_STOP_WORDS # Set of stopwords to be removed\n",
        "\n",
        "from wordcloud import WordCloud\n",
        "\n",
        "import matplotlib.pyplot as plt\n",
        "\n",
        "import plotly.express as px\n",
        "\n",
        "import nltk\n",
        "\n",
        "from nltk.tokenize import word_tokenize\n",
        "\n",
        "from collections import Counter\n",
        "\n",
        "nltk.download(\"punkt\")\n",
        "\n",
        "\n",
        "punc = string.punctuation # punctuations to be removed\n",
        "\n",
        "stopwords = ENGLISH_STOP_WORDS # stopwords to be removed"
      ],
      "metadata": {
        "id": "D8CtN6yaRYkg",
        "colab": {
          "base_uri": "https://localhost:8080/"
        },
        "outputId": "ff3a61b0-e7e9-4405-d5d8-332ad8f6a222"
      },
      "execution_count": 21,
      "outputs": [
        {
          "output_type": "stream",
          "name": "stderr",
          "text": [
            "[nltk_data] Downloading package punkt to /root/nltk_data...\n",
            "[nltk_data]   Package punkt is already up-to-date!\n"
          ]
        }
      ]
    },
    {
      "cell_type": "code",
      "source": [
        "from google.colab import files\n",
        "\n",
        "upload = files.upload() #upload the files you want to analyse"
      ],
      "metadata": {
        "id": "qrAjL57ZX_8I",
        "colab": {
          "base_uri": "https://localhost:8080/",
          "height": 38
        },
        "outputId": "29c37414-70c1-43db-d46e-0830f4e7d3e1"
      },
      "execution_count": null,
      "outputs": [
        {
          "output_type": "display_data",
          "data": {
            "text/plain": [
              "<IPython.core.display.HTML object>"
            ],
            "text/html": [
              "\n",
              "     <input type=\"file\" id=\"files-e346e32e-30a9-47fd-a9be-551a7d5325ac\" name=\"files[]\" multiple disabled\n",
              "        style=\"border:none\" />\n",
              "     <output id=\"result-e346e32e-30a9-47fd-a9be-551a7d5325ac\">\n",
              "      Upload widget is only available when the cell has been executed in the\n",
              "      current browser session. Please rerun this cell to enable.\n",
              "      </output>\n",
              "      <script>// Copyright 2017 Google LLC\n",
              "//\n",
              "// Licensed under the Apache License, Version 2.0 (the \"License\");\n",
              "// you may not use this file except in compliance with the License.\n",
              "// You may obtain a copy of the License at\n",
              "//\n",
              "//      http://www.apache.org/licenses/LICENSE-2.0\n",
              "//\n",
              "// Unless required by applicable law or agreed to in writing, software\n",
              "// distributed under the License is distributed on an \"AS IS\" BASIS,\n",
              "// WITHOUT WARRANTIES OR CONDITIONS OF ANY KIND, either express or implied.\n",
              "// See the License for the specific language governing permissions and\n",
              "// limitations under the License.\n",
              "\n",
              "/**\n",
              " * @fileoverview Helpers for google.colab Python module.\n",
              " */\n",
              "(function(scope) {\n",
              "function span(text, styleAttributes = {}) {\n",
              "  const element = document.createElement('span');\n",
              "  element.textContent = text;\n",
              "  for (const key of Object.keys(styleAttributes)) {\n",
              "    element.style[key] = styleAttributes[key];\n",
              "  }\n",
              "  return element;\n",
              "}\n",
              "\n",
              "// Max number of bytes which will be uploaded at a time.\n",
              "const MAX_PAYLOAD_SIZE = 100 * 1024;\n",
              "\n",
              "function _uploadFiles(inputId, outputId) {\n",
              "  const steps = uploadFilesStep(inputId, outputId);\n",
              "  const outputElement = document.getElementById(outputId);\n",
              "  // Cache steps on the outputElement to make it available for the next call\n",
              "  // to uploadFilesContinue from Python.\n",
              "  outputElement.steps = steps;\n",
              "\n",
              "  return _uploadFilesContinue(outputId);\n",
              "}\n",
              "\n",
              "// This is roughly an async generator (not supported in the browser yet),\n",
              "// where there are multiple asynchronous steps and the Python side is going\n",
              "// to poll for completion of each step.\n",
              "// This uses a Promise to block the python side on completion of each step,\n",
              "// then passes the result of the previous step as the input to the next step.\n",
              "function _uploadFilesContinue(outputId) {\n",
              "  const outputElement = document.getElementById(outputId);\n",
              "  const steps = outputElement.steps;\n",
              "\n",
              "  const next = steps.next(outputElement.lastPromiseValue);\n",
              "  return Promise.resolve(next.value.promise).then((value) => {\n",
              "    // Cache the last promise value to make it available to the next\n",
              "    // step of the generator.\n",
              "    outputElement.lastPromiseValue = value;\n",
              "    return next.value.response;\n",
              "  });\n",
              "}\n",
              "\n",
              "/**\n",
              " * Generator function which is called between each async step of the upload\n",
              " * process.\n",
              " * @param {string} inputId Element ID of the input file picker element.\n",
              " * @param {string} outputId Element ID of the output display.\n",
              " * @return {!Iterable<!Object>} Iterable of next steps.\n",
              " */\n",
              "function* uploadFilesStep(inputId, outputId) {\n",
              "  const inputElement = document.getElementById(inputId);\n",
              "  inputElement.disabled = false;\n",
              "\n",
              "  const outputElement = document.getElementById(outputId);\n",
              "  outputElement.innerHTML = '';\n",
              "\n",
              "  const pickedPromise = new Promise((resolve) => {\n",
              "    inputElement.addEventListener('change', (e) => {\n",
              "      resolve(e.target.files);\n",
              "    });\n",
              "  });\n",
              "\n",
              "  const cancel = document.createElement('button');\n",
              "  inputElement.parentElement.appendChild(cancel);\n",
              "  cancel.textContent = 'Cancel upload';\n",
              "  const cancelPromise = new Promise((resolve) => {\n",
              "    cancel.onclick = () => {\n",
              "      resolve(null);\n",
              "    };\n",
              "  });\n",
              "\n",
              "  // Wait for the user to pick the files.\n",
              "  const files = yield {\n",
              "    promise: Promise.race([pickedPromise, cancelPromise]),\n",
              "    response: {\n",
              "      action: 'starting',\n",
              "    }\n",
              "  };\n",
              "\n",
              "  cancel.remove();\n",
              "\n",
              "  // Disable the input element since further picks are not allowed.\n",
              "  inputElement.disabled = true;\n",
              "\n",
              "  if (!files) {\n",
              "    return {\n",
              "      response: {\n",
              "        action: 'complete',\n",
              "      }\n",
              "    };\n",
              "  }\n",
              "\n",
              "  for (const file of files) {\n",
              "    const li = document.createElement('li');\n",
              "    li.append(span(file.name, {fontWeight: 'bold'}));\n",
              "    li.append(span(\n",
              "        `(${file.type || 'n/a'}) - ${file.size} bytes, ` +\n",
              "        `last modified: ${\n",
              "            file.lastModifiedDate ? file.lastModifiedDate.toLocaleDateString() :\n",
              "                                    'n/a'} - `));\n",
              "    const percent = span('0% done');\n",
              "    li.appendChild(percent);\n",
              "\n",
              "    outputElement.appendChild(li);\n",
              "\n",
              "    const fileDataPromise = new Promise((resolve) => {\n",
              "      const reader = new FileReader();\n",
              "      reader.onload = (e) => {\n",
              "        resolve(e.target.result);\n",
              "      };\n",
              "      reader.readAsArrayBuffer(file);\n",
              "    });\n",
              "    // Wait for the data to be ready.\n",
              "    let fileData = yield {\n",
              "      promise: fileDataPromise,\n",
              "      response: {\n",
              "        action: 'continue',\n",
              "      }\n",
              "    };\n",
              "\n",
              "    // Use a chunked sending to avoid message size limits. See b/62115660.\n",
              "    let position = 0;\n",
              "    do {\n",
              "      const length = Math.min(fileData.byteLength - position, MAX_PAYLOAD_SIZE);\n",
              "      const chunk = new Uint8Array(fileData, position, length);\n",
              "      position += length;\n",
              "\n",
              "      const base64 = btoa(String.fromCharCode.apply(null, chunk));\n",
              "      yield {\n",
              "        response: {\n",
              "          action: 'append',\n",
              "          file: file.name,\n",
              "          data: base64,\n",
              "        },\n",
              "      };\n",
              "\n",
              "      let percentDone = fileData.byteLength === 0 ?\n",
              "          100 :\n",
              "          Math.round((position / fileData.byteLength) * 100);\n",
              "      percent.textContent = `${percentDone}% done`;\n",
              "\n",
              "    } while (position < fileData.byteLength);\n",
              "  }\n",
              "\n",
              "  // All done.\n",
              "  yield {\n",
              "    response: {\n",
              "      action: 'complete',\n",
              "    }\n",
              "  };\n",
              "}\n",
              "\n",
              "scope.google = scope.google || {};\n",
              "scope.google.colab = scope.google.colab || {};\n",
              "scope.google.colab._files = {\n",
              "  _uploadFiles,\n",
              "  _uploadFilesContinue,\n",
              "};\n",
              "})(self);\n",
              "</script> "
            ]
          },
          "metadata": {}
        }
      ]
    },
    {
      "cell_type": "code",
      "source": [
        "#Create a function to check if the file is pdf or docx and then read it\n",
        "\n",
        "def file_check(docname):\n",
        "  file_extension = os.path.splitext(docname)[-1].lower()\n",
        "  if file_extension == \".docx\":\n",
        "\n",
        "    data = docx2txt.process(docname)\n",
        "\n",
        "    return data\n",
        "\n",
        "  elif file_extension == \".pdf\":\n",
        "\n",
        "    reader = PdfReader(\"Statement_BU.pdf\")\n",
        "    n_pages = len(reader.pages)\n",
        "    page = reader.pages[n_pages-1]\n",
        "    data = page.extract_text()\n",
        "\n",
        "    return data\n",
        "\n",
        "  else:\n",
        "    return print(\"Invalid Type of file\")\n",
        "\n"
      ],
      "metadata": {
        "id": "PnLC1dkUg_jC"
      },
      "execution_count": null,
      "outputs": []
    },
    {
      "cell_type": "markdown",
      "source": [
        "# Data Visualization\n",
        "\n",
        "- First we will create a tool to  visualize more frequent words in the douments. To do so, we will use the wordcloud library.\n",
        "- In order to analyse mostly the keywords, it is important to clean the unnecessary words, which we know as stopwords. So we will do it in the following functions"
      ],
      "metadata": {
        "id": "Xks-cWO7379k"
      }
    },
    {
      "cell_type": "code",
      "source": [
        "#insert the name of the document to be analyzed\n",
        "\n",
        "docname = \"\""
      ],
      "metadata": {
        "id": "RhZ4os39Z1ny"
      },
      "execution_count": null,
      "outputs": []
    },
    {
      "cell_type": "code",
      "source": [
        "# Creating a function to visualize the most frequency words in the data\n",
        "# docname must be changed by the name of the docx  that will be analized, for example: docname = \"name.docx\"\n",
        "def wc_func(docname):\n",
        "\n",
        "  data = file_check(docname)\n",
        "\n",
        "  data = ' '.join([word for word in data.split() if word.lower() not in stopwords]) # removing stopwords\n",
        "\n",
        "  wc = WordCloud(background_color=\"Black\", repeat=False, width = 1200 , height = 600) # Setting up the wordcloud\n",
        "\n",
        "  wc.generate(data) # applying the wc on the data\n",
        "\n",
        "  plt.figure(figsize = (20,20))\n",
        "\n",
        "  plt.axis(\"off\") # hide axis\n",
        "\n",
        "  plt.imshow(wc, interpolation=\"bilinear\")\n",
        "\n",
        "  plt.show()\n",
        "\n",
        "\n",
        "\n"
      ],
      "metadata": {
        "id": "aXKvvG680wwp"
      },
      "execution_count": 9,
      "outputs": []
    },
    {
      "cell_type": "code",
      "source": [
        "wc_func(\"-file-name-\")"
      ],
      "metadata": {
        "id": "Tn0WLqU2X0_9"
      },
      "execution_count": null,
      "outputs": []
    },
    {
      "cell_type": "markdown",
      "source": [
        "- We can also examine the words by their frequency in the text, which will be set up in the following function."
      ],
      "metadata": {
        "id": "egbOHg5WUKX1"
      }
    },
    {
      "cell_type": "code",
      "source": [
        "\n",
        "\n",
        "def most_freq_words(docname,number):\n",
        "\n",
        "    data = file_check(docname)\n",
        "\n",
        "    data = ''.join([char for char in data if char not in punc])\n",
        "\n",
        "\n",
        "    data = ' '.join([word for word in data.split() if word.lower() not in stopwords]) # removing stopwords\n",
        "\n",
        "    words = word_tokenize(data.lower())\n",
        "    # Count word frequency\n",
        "    word_count = Counter(words)\n",
        "\n",
        "    # Get the most common words and their frequencies\n",
        "    most_common_words = word_count.most_common(number)\n",
        "\n",
        "    # Convert the Counter object to a DataFrame\n",
        "    df = pd.DataFrame(most_common_words, columns=['Word', 'freq'])\n",
        "\n",
        "    df = df.sort_values(by='freq', ascending=True)\n",
        "\n",
        "    fig = px.bar(df, y='Word', x='freq', text_auto='.2s',\n",
        "            title=\"Most Common Words\", orientation = 'h')\n",
        "\n",
        "    fig.show()\n"
      ],
      "metadata": {
        "id": "mP0PCnNRBRSY"
      },
      "execution_count": 11,
      "outputs": []
    },
    {
      "cell_type": "code",
      "source": [
        "most_freq_words(\"-file-name-\",18)"
      ],
      "metadata": {
        "id": "srpa_xQHX3h0"
      },
      "execution_count": null,
      "outputs": []
    },
    {
      "cell_type": "markdown",
      "source": [
        "# Scanning the Resume\n",
        "\n",
        "- Finally, we can use the code sklearn library to create a count_matrix of our texts, and them calculate the similarity between them using the cosine similarity method"
      ],
      "metadata": {
        "id": "VL2rV7TZVS-f"
      }
    },
    {
      "cell_type": "code",
      "source": [
        "def resume_scan(your_resume, job_description):\n",
        "\n",
        "  resume = file_check(your_resume) #Reading resume docx/pdf\n",
        "\n",
        "  job_des = file_check(job_description) #Reading job description docx/pdf\n",
        "\n",
        "  resume = ' '.join([word for word in resume.split() if word.lower() not in stopwords])\n",
        "\n",
        "  job_des = ' '.join([word for word in job_des.split() if word.lower() not in stopwords])\n",
        "\n",
        "  text = [resume, job_des] # Seting the two texts in a dataset\n",
        "\n",
        "  cv = CountVectorizer() # Creating the function CountVectorizer\n",
        "\n",
        "  count_matrix = cv.fit_transform(text) #Creating the count matrix\n",
        "\n",
        "  #Print the cosine similarity scores\n",
        "\n",
        "  print(\"\\nSimilarity Scores:\")\n",
        "\n",
        "  print(cosine_similarity(count_matrix))\n",
        "\n",
        "  print(\" \")\n",
        "\n",
        "  print(\" \")\n",
        "\n",
        "  print(\"\\nMatch Rate of: \" + str(your_resume) +\" and \" + str(job_description))\n",
        "\n",
        "  print(\" \")\n",
        "\n",
        "  print(\" \")\n",
        "\n",
        "  matchrate = cosine_similarity(count_matrix)[0][1]\n",
        "\n",
        "  matchpercen = round(matchrate*100,2) # rouded value\n",
        "\n",
        "  print(\"Match percentage between your resume and the job description is \" + str(matchpercen))\n"
      ],
      "metadata": {
        "id": "umLyHMbuPuh4"
      },
      "execution_count": 12,
      "outputs": []
    },
    {
      "cell_type": "code",
      "source": [
        "resume_scan(\"Resume\",\"job_description\")"
      ],
      "metadata": {
        "id": "NJo0hF4eV_oR"
      },
      "execution_count": null,
      "outputs": []
    }
  ]
}